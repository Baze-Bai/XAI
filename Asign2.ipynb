{
  "nbformat": 4,
  "nbformat_minor": 0,
  "metadata": {
    "colab": {
      "provenance": [],
      "authorship_tag": "ABX9TyOyz1CawOn5zduwTtqPe0VI",
      "include_colab_link": true
    },
    "kernelspec": {
      "name": "python3",
      "display_name": "Python 3"
    },
    "language_info": {
      "name": "python"
    }
  },
  "cells": [
    {
      "cell_type": "markdown",
      "metadata": {
        "id": "view-in-github",
        "colab_type": "text"
      },
      "source": [
        "<a href=\"https://colab.research.google.com/github/Baze-Bai/XAI/blob/HW2/Asign2.ipynb\" target=\"_parent\"><img src=\"https://colab.research.google.com/assets/colab-badge.svg\" alt=\"Open In Colab\"/></a>"
      ]
    },
    {
      "cell_type": "markdown",
      "source": [
        "# AIPI 590 - XAI | Assignment 3\n",
        "### Description\n",
        "### Zejun(Baze) Bai"
      ],
      "metadata": {
        "id": "yCQccNZ15DC_"
      }
    },
    {
      "cell_type": "markdown",
      "source": [
        "# Install required packages"
      ],
      "metadata": {
        "id": "_IoBt-xz6GFn"
      }
    },
    {
      "cell_type": "code",
      "source": [
        "! pip install pytorch-tabnet lime numpy pandas scikit-learn matplotlib alibi\n"
      ],
      "metadata": {
        "colab": {
          "base_uri": "https://localhost:8080/",
          "height": 1000
        },
        "id": "1cilgR_G6JzY",
        "outputId": "7f865d94-6340-486a-94b4-2107071bc846"
      },
      "execution_count": 3,
      "outputs": [
        {
          "output_type": "stream",
          "name": "stdout",
          "text": [
            "Collecting pytorch-tabnet\n",
            "  Downloading pytorch_tabnet-4.1.0-py3-none-any.whl.metadata (15 kB)\n",
            "Collecting lime\n",
            "  Downloading lime-0.2.0.1.tar.gz (275 kB)\n",
            "\u001b[?25l     \u001b[90m━━━━━━━━━━━━━━━━━━━━━━━━━━━━━━━━━━━━━━━━\u001b[0m \u001b[32m0.0/275.7 kB\u001b[0m \u001b[31m?\u001b[0m eta \u001b[36m-:--:--\u001b[0m\r\u001b[2K     \u001b[91m━━━━━━━━━━━━━━━━━━━━━━━━━━━━━━━━\u001b[0m\u001b[91m╸\u001b[0m\u001b[90m━━━━━━━\u001b[0m \u001b[32m225.3/275.7 kB\u001b[0m \u001b[31m6.7 MB/s\u001b[0m eta \u001b[36m0:00:01\u001b[0m\r\u001b[2K     \u001b[90m━━━━━━━━━━━━━━━━━━━━━━━━━━━━━━━━━━━━━━━━\u001b[0m \u001b[32m275.7/275.7 kB\u001b[0m \u001b[31m5.4 MB/s\u001b[0m eta \u001b[36m0:00:00\u001b[0m\n",
            "\u001b[?25h  Preparing metadata (setup.py) ... \u001b[?25l\u001b[?25hdone\n",
            "Requirement already satisfied: numpy in /usr/local/lib/python3.11/dist-packages (1.26.4)\n",
            "Requirement already satisfied: pandas in /usr/local/lib/python3.11/dist-packages (2.2.2)\n",
            "Requirement already satisfied: scikit-learn in /usr/local/lib/python3.11/dist-packages (1.6.1)\n",
            "Requirement already satisfied: matplotlib in /usr/local/lib/python3.11/dist-packages (3.10.0)\n",
            "Collecting alibi\n",
            "  Downloading alibi-0.9.6-py3-none-any.whl.metadata (22 kB)\n",
            "Requirement already satisfied: scipy>1.4 in /usr/local/lib/python3.11/dist-packages (from pytorch-tabnet) (1.13.1)\n",
            "Requirement already satisfied: torch>=1.3 in /usr/local/lib/python3.11/dist-packages (from pytorch-tabnet) (2.5.1+cu124)\n",
            "Requirement already satisfied: tqdm>=4.36 in /usr/local/lib/python3.11/dist-packages (from pytorch-tabnet) (4.67.1)\n",
            "Requirement already satisfied: scikit-image>=0.12 in /usr/local/lib/python3.11/dist-packages (from lime) (0.25.1)\n",
            "Requirement already satisfied: python-dateutil>=2.8.2 in /usr/local/lib/python3.11/dist-packages (from pandas) (2.8.2)\n",
            "Requirement already satisfied: pytz>=2020.1 in /usr/local/lib/python3.11/dist-packages (from pandas) (2024.2)\n",
            "Requirement already satisfied: tzdata>=2022.7 in /usr/local/lib/python3.11/dist-packages (from pandas) (2025.1)\n",
            "Requirement already satisfied: joblib>=1.2.0 in /usr/local/lib/python3.11/dist-packages (from scikit-learn) (1.4.2)\n",
            "Requirement already satisfied: threadpoolctl>=3.1.0 in /usr/local/lib/python3.11/dist-packages (from scikit-learn) (3.5.0)\n",
            "Requirement already satisfied: contourpy>=1.0.1 in /usr/local/lib/python3.11/dist-packages (from matplotlib) (1.3.1)\n",
            "Requirement already satisfied: cycler>=0.10 in /usr/local/lib/python3.11/dist-packages (from matplotlib) (0.12.1)\n",
            "Requirement already satisfied: fonttools>=4.22.0 in /usr/local/lib/python3.11/dist-packages (from matplotlib) (4.55.6)\n",
            "Requirement already satisfied: kiwisolver>=1.3.1 in /usr/local/lib/python3.11/dist-packages (from matplotlib) (1.4.8)\n",
            "Requirement already satisfied: packaging>=20.0 in /usr/local/lib/python3.11/dist-packages (from matplotlib) (24.2)\n",
            "Requirement already satisfied: pillow>=8 in /usr/local/lib/python3.11/dist-packages (from matplotlib) (11.1.0)\n",
            "Requirement already satisfied: pyparsing>=2.3.1 in /usr/local/lib/python3.11/dist-packages (from matplotlib) (3.2.1)\n",
            "Requirement already satisfied: spacy<4.0.0,>=2.0.0 in /usr/local/lib/python3.11/dist-packages (from spacy[lookups]<4.0.0,>=2.0.0->alibi) (3.7.5)\n",
            "Requirement already satisfied: blis<0.8.0 in /usr/local/lib/python3.11/dist-packages (from alibi) (0.7.11)\n",
            "Collecting scikit-image>=0.12 (from lime)\n",
            "  Downloading scikit_image-0.22.0-cp311-cp311-manylinux_2_17_x86_64.manylinux2014_x86_64.whl.metadata (13 kB)\n",
            "Requirement already satisfied: requests<3.0.0,>=2.21.0 in /usr/local/lib/python3.11/dist-packages (from alibi) (2.32.3)\n",
            "Collecting pillow>=8 (from matplotlib)\n",
            "  Downloading pillow-10.4.0-cp311-cp311-manylinux_2_28_x86_64.whl.metadata (9.2 kB)\n",
            "Collecting attrs<24.0.0,>=19.2.0 (from alibi)\n",
            "  Downloading attrs-23.2.0-py3-none-any.whl.metadata (9.5 kB)\n",
            "Requirement already satisfied: typing-extensions>=3.7.4.3 in /usr/local/lib/python3.11/dist-packages (from alibi) (4.12.2)\n",
            "Collecting dill<0.4.0,>=0.3.0 (from alibi)\n",
            "  Downloading dill-0.3.9-py3-none-any.whl.metadata (10 kB)\n",
            "Requirement already satisfied: transformers<5.0.0,>=4.7.0 in /usr/local/lib/python3.11/dist-packages (from alibi) (4.47.1)\n",
            "Requirement already satisfied: six>=1.5 in /usr/local/lib/python3.11/dist-packages (from python-dateutil>=2.8.2->pandas) (1.17.0)\n",
            "Requirement already satisfied: charset-normalizer<4,>=2 in /usr/local/lib/python3.11/dist-packages (from requests<3.0.0,>=2.21.0->alibi) (3.4.1)\n",
            "Requirement already satisfied: idna<4,>=2.5 in /usr/local/lib/python3.11/dist-packages (from requests<3.0.0,>=2.21.0->alibi) (3.10)\n",
            "Requirement already satisfied: urllib3<3,>=1.21.1 in /usr/local/lib/python3.11/dist-packages (from requests<3.0.0,>=2.21.0->alibi) (2.3.0)\n",
            "Requirement already satisfied: certifi>=2017.4.17 in /usr/local/lib/python3.11/dist-packages (from requests<3.0.0,>=2.21.0->alibi) (2024.12.14)\n",
            "Requirement already satisfied: networkx>=2.8 in /usr/local/lib/python3.11/dist-packages (from scikit-image>=0.12->lime) (3.4.2)\n",
            "Requirement already satisfied: imageio>=2.27 in /usr/local/lib/python3.11/dist-packages (from scikit-image>=0.12->lime) (2.36.1)\n",
            "Requirement already satisfied: tifffile>=2022.8.12 in /usr/local/lib/python3.11/dist-packages (from scikit-image>=0.12->lime) (2025.1.10)\n",
            "Requirement already satisfied: lazy_loader>=0.3 in /usr/local/lib/python3.11/dist-packages (from scikit-image>=0.12->lime) (0.4)\n",
            "Requirement already satisfied: spacy-legacy<3.1.0,>=3.0.11 in /usr/local/lib/python3.11/dist-packages (from spacy<4.0.0,>=2.0.0->spacy[lookups]<4.0.0,>=2.0.0->alibi) (3.0.12)\n",
            "Requirement already satisfied: spacy-loggers<2.0.0,>=1.0.0 in /usr/local/lib/python3.11/dist-packages (from spacy<4.0.0,>=2.0.0->spacy[lookups]<4.0.0,>=2.0.0->alibi) (1.0.5)\n",
            "Requirement already satisfied: murmurhash<1.1.0,>=0.28.0 in /usr/local/lib/python3.11/dist-packages (from spacy<4.0.0,>=2.0.0->spacy[lookups]<4.0.0,>=2.0.0->alibi) (1.0.12)\n",
            "Requirement already satisfied: cymem<2.1.0,>=2.0.2 in /usr/local/lib/python3.11/dist-packages (from spacy<4.0.0,>=2.0.0->spacy[lookups]<4.0.0,>=2.0.0->alibi) (2.0.11)\n",
            "Requirement already satisfied: preshed<3.1.0,>=3.0.2 in /usr/local/lib/python3.11/dist-packages (from spacy<4.0.0,>=2.0.0->spacy[lookups]<4.0.0,>=2.0.0->alibi) (3.0.9)\n",
            "Requirement already satisfied: thinc<8.3.0,>=8.2.2 in /usr/local/lib/python3.11/dist-packages (from spacy<4.0.0,>=2.0.0->spacy[lookups]<4.0.0,>=2.0.0->alibi) (8.2.5)\n",
            "Requirement already satisfied: wasabi<1.2.0,>=0.9.1 in /usr/local/lib/python3.11/dist-packages (from spacy<4.0.0,>=2.0.0->spacy[lookups]<4.0.0,>=2.0.0->alibi) (1.1.3)\n",
            "Requirement already satisfied: srsly<3.0.0,>=2.4.3 in /usr/local/lib/python3.11/dist-packages (from spacy<4.0.0,>=2.0.0->spacy[lookups]<4.0.0,>=2.0.0->alibi) (2.5.1)\n",
            "Requirement already satisfied: catalogue<2.1.0,>=2.0.6 in /usr/local/lib/python3.11/dist-packages (from spacy<4.0.0,>=2.0.0->spacy[lookups]<4.0.0,>=2.0.0->alibi) (2.0.10)\n",
            "Requirement already satisfied: weasel<0.5.0,>=0.1.0 in /usr/local/lib/python3.11/dist-packages (from spacy<4.0.0,>=2.0.0->spacy[lookups]<4.0.0,>=2.0.0->alibi) (0.4.1)\n",
            "Requirement already satisfied: typer<1.0.0,>=0.3.0 in /usr/local/lib/python3.11/dist-packages (from spacy<4.0.0,>=2.0.0->spacy[lookups]<4.0.0,>=2.0.0->alibi) (0.15.1)\n",
            "Requirement already satisfied: pydantic!=1.8,!=1.8.1,<3.0.0,>=1.7.4 in /usr/local/lib/python3.11/dist-packages (from spacy<4.0.0,>=2.0.0->spacy[lookups]<4.0.0,>=2.0.0->alibi) (2.10.6)\n",
            "Requirement already satisfied: jinja2 in /usr/local/lib/python3.11/dist-packages (from spacy<4.0.0,>=2.0.0->spacy[lookups]<4.0.0,>=2.0.0->alibi) (3.1.5)\n",
            "Requirement already satisfied: setuptools in /usr/local/lib/python3.11/dist-packages (from spacy<4.0.0,>=2.0.0->spacy[lookups]<4.0.0,>=2.0.0->alibi) (75.1.0)\n",
            "Requirement already satisfied: langcodes<4.0.0,>=3.2.0 in /usr/local/lib/python3.11/dist-packages (from spacy<4.0.0,>=2.0.0->spacy[lookups]<4.0.0,>=2.0.0->alibi) (3.5.0)\n",
            "Collecting spacy-lookups-data<1.1.0,>=1.0.3 (from spacy[lookups]<4.0.0,>=2.0.0->alibi)\n",
            "  Downloading spacy_lookups_data-1.0.5-py2.py3-none-any.whl.metadata (4.8 kB)\n",
            "Requirement already satisfied: filelock in /usr/local/lib/python3.11/dist-packages (from torch>=1.3->pytorch-tabnet) (3.17.0)\n",
            "Requirement already satisfied: fsspec in /usr/local/lib/python3.11/dist-packages (from torch>=1.3->pytorch-tabnet) (2024.10.0)\n",
            "Collecting nvidia-cuda-nvrtc-cu12==12.4.127 (from torch>=1.3->pytorch-tabnet)\n",
            "  Downloading nvidia_cuda_nvrtc_cu12-12.4.127-py3-none-manylinux2014_x86_64.whl.metadata (1.5 kB)\n",
            "Collecting nvidia-cuda-runtime-cu12==12.4.127 (from torch>=1.3->pytorch-tabnet)\n",
            "  Downloading nvidia_cuda_runtime_cu12-12.4.127-py3-none-manylinux2014_x86_64.whl.metadata (1.5 kB)\n",
            "Collecting nvidia-cuda-cupti-cu12==12.4.127 (from torch>=1.3->pytorch-tabnet)\n",
            "  Downloading nvidia_cuda_cupti_cu12-12.4.127-py3-none-manylinux2014_x86_64.whl.metadata (1.6 kB)\n",
            "Collecting nvidia-cudnn-cu12==9.1.0.70 (from torch>=1.3->pytorch-tabnet)\n",
            "  Downloading nvidia_cudnn_cu12-9.1.0.70-py3-none-manylinux2014_x86_64.whl.metadata (1.6 kB)\n",
            "Collecting nvidia-cublas-cu12==12.4.5.8 (from torch>=1.3->pytorch-tabnet)\n",
            "  Downloading nvidia_cublas_cu12-12.4.5.8-py3-none-manylinux2014_x86_64.whl.metadata (1.5 kB)\n",
            "Collecting nvidia-cufft-cu12==11.2.1.3 (from torch>=1.3->pytorch-tabnet)\n",
            "  Downloading nvidia_cufft_cu12-11.2.1.3-py3-none-manylinux2014_x86_64.whl.metadata (1.5 kB)\n",
            "Collecting nvidia-curand-cu12==10.3.5.147 (from torch>=1.3->pytorch-tabnet)\n",
            "  Downloading nvidia_curand_cu12-10.3.5.147-py3-none-manylinux2014_x86_64.whl.metadata (1.5 kB)\n",
            "Collecting nvidia-cusolver-cu12==11.6.1.9 (from torch>=1.3->pytorch-tabnet)\n",
            "  Downloading nvidia_cusolver_cu12-11.6.1.9-py3-none-manylinux2014_x86_64.whl.metadata (1.6 kB)\n",
            "Collecting nvidia-cusparse-cu12==12.3.1.170 (from torch>=1.3->pytorch-tabnet)\n",
            "  Downloading nvidia_cusparse_cu12-12.3.1.170-py3-none-manylinux2014_x86_64.whl.metadata (1.6 kB)\n",
            "Requirement already satisfied: nvidia-nccl-cu12==2.21.5 in /usr/local/lib/python3.11/dist-packages (from torch>=1.3->pytorch-tabnet) (2.21.5)\n",
            "Requirement already satisfied: nvidia-nvtx-cu12==12.4.127 in /usr/local/lib/python3.11/dist-packages (from torch>=1.3->pytorch-tabnet) (12.4.127)\n",
            "Collecting nvidia-nvjitlink-cu12==12.4.127 (from torch>=1.3->pytorch-tabnet)\n",
            "  Downloading nvidia_nvjitlink_cu12-12.4.127-py3-none-manylinux2014_x86_64.whl.metadata (1.5 kB)\n",
            "Requirement already satisfied: triton==3.1.0 in /usr/local/lib/python3.11/dist-packages (from torch>=1.3->pytorch-tabnet) (3.1.0)\n",
            "Requirement already satisfied: sympy==1.13.1 in /usr/local/lib/python3.11/dist-packages (from torch>=1.3->pytorch-tabnet) (1.13.1)\n",
            "Requirement already satisfied: mpmath<1.4,>=1.1.0 in /usr/local/lib/python3.11/dist-packages (from sympy==1.13.1->torch>=1.3->pytorch-tabnet) (1.3.0)\n",
            "Requirement already satisfied: huggingface-hub<1.0,>=0.24.0 in /usr/local/lib/python3.11/dist-packages (from transformers<5.0.0,>=4.7.0->alibi) (0.27.1)\n",
            "Requirement already satisfied: pyyaml>=5.1 in /usr/local/lib/python3.11/dist-packages (from transformers<5.0.0,>=4.7.0->alibi) (6.0.2)\n",
            "Requirement already satisfied: regex!=2019.12.17 in /usr/local/lib/python3.11/dist-packages (from transformers<5.0.0,>=4.7.0->alibi) (2024.11.6)\n",
            "Requirement already satisfied: tokenizers<0.22,>=0.21 in /usr/local/lib/python3.11/dist-packages (from transformers<5.0.0,>=4.7.0->alibi) (0.21.0)\n",
            "Requirement already satisfied: safetensors>=0.4.1 in /usr/local/lib/python3.11/dist-packages (from transformers<5.0.0,>=4.7.0->alibi) (0.5.2)\n",
            "Requirement already satisfied: language-data>=1.2 in /usr/local/lib/python3.11/dist-packages (from langcodes<4.0.0,>=3.2.0->spacy<4.0.0,>=2.0.0->spacy[lookups]<4.0.0,>=2.0.0->alibi) (1.3.0)\n",
            "Requirement already satisfied: annotated-types>=0.6.0 in /usr/local/lib/python3.11/dist-packages (from pydantic!=1.8,!=1.8.1,<3.0.0,>=1.7.4->spacy<4.0.0,>=2.0.0->spacy[lookups]<4.0.0,>=2.0.0->alibi) (0.7.0)\n",
            "Requirement already satisfied: pydantic-core==2.27.2 in /usr/local/lib/python3.11/dist-packages (from pydantic!=1.8,!=1.8.1,<3.0.0,>=1.7.4->spacy<4.0.0,>=2.0.0->spacy[lookups]<4.0.0,>=2.0.0->alibi) (2.27.2)\n",
            "Requirement already satisfied: confection<1.0.0,>=0.0.1 in /usr/local/lib/python3.11/dist-packages (from thinc<8.3.0,>=8.2.2->spacy<4.0.0,>=2.0.0->spacy[lookups]<4.0.0,>=2.0.0->alibi) (0.1.5)\n",
            "Requirement already satisfied: click>=8.0.0 in /usr/local/lib/python3.11/dist-packages (from typer<1.0.0,>=0.3.0->spacy<4.0.0,>=2.0.0->spacy[lookups]<4.0.0,>=2.0.0->alibi) (8.1.8)\n",
            "Requirement already satisfied: shellingham>=1.3.0 in /usr/local/lib/python3.11/dist-packages (from typer<1.0.0,>=0.3.0->spacy<4.0.0,>=2.0.0->spacy[lookups]<4.0.0,>=2.0.0->alibi) (1.5.4)\n",
            "Requirement already satisfied: rich>=10.11.0 in /usr/local/lib/python3.11/dist-packages (from typer<1.0.0,>=0.3.0->spacy<4.0.0,>=2.0.0->spacy[lookups]<4.0.0,>=2.0.0->alibi) (13.9.4)\n",
            "Requirement already satisfied: cloudpathlib<1.0.0,>=0.7.0 in /usr/local/lib/python3.11/dist-packages (from weasel<0.5.0,>=0.1.0->spacy<4.0.0,>=2.0.0->spacy[lookups]<4.0.0,>=2.0.0->alibi) (0.20.0)\n",
            "Requirement already satisfied: smart-open<8.0.0,>=5.2.1 in /usr/local/lib/python3.11/dist-packages (from weasel<0.5.0,>=0.1.0->spacy<4.0.0,>=2.0.0->spacy[lookups]<4.0.0,>=2.0.0->alibi) (7.1.0)\n",
            "Requirement already satisfied: MarkupSafe>=2.0 in /usr/local/lib/python3.11/dist-packages (from jinja2->spacy<4.0.0,>=2.0.0->spacy[lookups]<4.0.0,>=2.0.0->alibi) (3.0.2)\n",
            "Requirement already satisfied: marisa-trie>=1.1.0 in /usr/local/lib/python3.11/dist-packages (from language-data>=1.2->langcodes<4.0.0,>=3.2.0->spacy<4.0.0,>=2.0.0->spacy[lookups]<4.0.0,>=2.0.0->alibi) (1.2.1)\n",
            "Requirement already satisfied: markdown-it-py>=2.2.0 in /usr/local/lib/python3.11/dist-packages (from rich>=10.11.0->typer<1.0.0,>=0.3.0->spacy<4.0.0,>=2.0.0->spacy[lookups]<4.0.0,>=2.0.0->alibi) (3.0.0)\n",
            "Requirement already satisfied: pygments<3.0.0,>=2.13.0 in /usr/local/lib/python3.11/dist-packages (from rich>=10.11.0->typer<1.0.0,>=0.3.0->spacy<4.0.0,>=2.0.0->spacy[lookups]<4.0.0,>=2.0.0->alibi) (2.18.0)\n",
            "Requirement already satisfied: wrapt in /usr/local/lib/python3.11/dist-packages (from smart-open<8.0.0,>=5.2.1->weasel<0.5.0,>=0.1.0->spacy<4.0.0,>=2.0.0->spacy[lookups]<4.0.0,>=2.0.0->alibi) (1.17.2)\n",
            "Requirement already satisfied: mdurl~=0.1 in /usr/local/lib/python3.11/dist-packages (from markdown-it-py>=2.2.0->rich>=10.11.0->typer<1.0.0,>=0.3.0->spacy<4.0.0,>=2.0.0->spacy[lookups]<4.0.0,>=2.0.0->alibi) (0.1.2)\n",
            "Downloading pytorch_tabnet-4.1.0-py3-none-any.whl (44 kB)\n",
            "\u001b[2K   \u001b[90m━━━━━━━━━━━━━━━━━━━━━━━━━━━━━━━━━━━━━━━━\u001b[0m \u001b[32m44.5/44.5 kB\u001b[0m \u001b[31m3.1 MB/s\u001b[0m eta \u001b[36m0:00:00\u001b[0m\n",
            "\u001b[?25hDownloading alibi-0.9.6-py3-none-any.whl (522 kB)\n",
            "\u001b[2K   \u001b[90m━━━━━━━━━━━━━━━━━━━━━━━━━━━━━━━━━━━━━━━━\u001b[0m \u001b[32m522.1/522.1 kB\u001b[0m \u001b[31m18.6 MB/s\u001b[0m eta \u001b[36m0:00:00\u001b[0m\n",
            "\u001b[?25hDownloading attrs-23.2.0-py3-none-any.whl (60 kB)\n",
            "\u001b[2K   \u001b[90m━━━━━━━━━━━━━━━━━━━━━━━━━━━━━━━━━━━━━━━━\u001b[0m \u001b[32m60.8/60.8 kB\u001b[0m \u001b[31m4.3 MB/s\u001b[0m eta \u001b[36m0:00:00\u001b[0m\n",
            "\u001b[?25hDownloading dill-0.3.9-py3-none-any.whl (119 kB)\n",
            "\u001b[2K   \u001b[90m━━━━━━━━━━━━━━━━━━━━━━━━━━━━━━━━━━━━━━━━\u001b[0m \u001b[32m119.4/119.4 kB\u001b[0m \u001b[31m8.3 MB/s\u001b[0m eta \u001b[36m0:00:00\u001b[0m\n",
            "\u001b[?25hDownloading pillow-10.4.0-cp311-cp311-manylinux_2_28_x86_64.whl (4.5 MB)\n",
            "\u001b[2K   \u001b[90m━━━━━━━━━━━━━━━━━━━━━━━━━━━━━━━━━━━━━━━━\u001b[0m \u001b[32m4.5/4.5 MB\u001b[0m \u001b[31m70.7 MB/s\u001b[0m eta \u001b[36m0:00:00\u001b[0m\n",
            "\u001b[?25hDownloading scikit_image-0.22.0-cp311-cp311-manylinux_2_17_x86_64.manylinux2014_x86_64.whl (14.7 MB)\n",
            "\u001b[2K   \u001b[90m━━━━━━━━━━━━━━━━━━━━━━━━━━━━━━━━━━━━━━━━\u001b[0m \u001b[32m14.7/14.7 MB\u001b[0m \u001b[31m84.1 MB/s\u001b[0m eta \u001b[36m0:00:00\u001b[0m\n",
            "\u001b[?25hDownloading nvidia_cublas_cu12-12.4.5.8-py3-none-manylinux2014_x86_64.whl (363.4 MB)\n",
            "\u001b[2K   \u001b[90m━━━━━━━━━━━━━━━━━━━━━━━━━━━━━━━━━━━━━━━━\u001b[0m \u001b[32m363.4/363.4 MB\u001b[0m \u001b[31m4.6 MB/s\u001b[0m eta \u001b[36m0:00:00\u001b[0m\n",
            "\u001b[?25hDownloading nvidia_cuda_cupti_cu12-12.4.127-py3-none-manylinux2014_x86_64.whl (13.8 MB)\n",
            "\u001b[2K   \u001b[90m━━━━━━━━━━━━━━━━━━━━━━━━━━━━━━━━━━━━━━━━\u001b[0m \u001b[32m13.8/13.8 MB\u001b[0m \u001b[31m47.5 MB/s\u001b[0m eta \u001b[36m0:00:00\u001b[0m\n",
            "\u001b[?25hDownloading nvidia_cuda_nvrtc_cu12-12.4.127-py3-none-manylinux2014_x86_64.whl (24.6 MB)\n",
            "\u001b[2K   \u001b[90m━━━━━━━━━━━━━━━━━━━━━━━━━━━━━━━━━━━━━━━━\u001b[0m \u001b[32m24.6/24.6 MB\u001b[0m \u001b[31m27.9 MB/s\u001b[0m eta \u001b[36m0:00:00\u001b[0m\n",
            "\u001b[?25hDownloading nvidia_cuda_runtime_cu12-12.4.127-py3-none-manylinux2014_x86_64.whl (883 kB)\n",
            "\u001b[2K   \u001b[90m━━━━━━━━━━━━━━━━━━━━━━━━━━━━━━━━━━━━━━━━\u001b[0m \u001b[32m883.7/883.7 kB\u001b[0m \u001b[31m30.4 MB/s\u001b[0m eta \u001b[36m0:00:00\u001b[0m\n",
            "\u001b[?25hDownloading nvidia_cudnn_cu12-9.1.0.70-py3-none-manylinux2014_x86_64.whl (664.8 MB)\n",
            "\u001b[2K   \u001b[90m━━━━━━━━━━━━━━━━━━━━━━━━━━━━━━━━━━━━━━━━\u001b[0m \u001b[32m664.8/664.8 MB\u001b[0m \u001b[31m828.5 kB/s\u001b[0m eta \u001b[36m0:00:00\u001b[0m\n",
            "\u001b[?25hDownloading nvidia_cufft_cu12-11.2.1.3-py3-none-manylinux2014_x86_64.whl (211.5 MB)\n",
            "\u001b[2K   \u001b[90m━━━━━━━━━━━━━━━━━━━━━━━━━━━━━━━━━━━━━━━━\u001b[0m \u001b[32m211.5/211.5 MB\u001b[0m \u001b[31m5.4 MB/s\u001b[0m eta \u001b[36m0:00:00\u001b[0m\n",
            "\u001b[?25hDownloading nvidia_curand_cu12-10.3.5.147-py3-none-manylinux2014_x86_64.whl (56.3 MB)\n",
            "\u001b[2K   \u001b[90m━━━━━━━━━━━━━━━━━━━━━━━━━━━━━━━━━━━━━━━━\u001b[0m \u001b[32m56.3/56.3 MB\u001b[0m \u001b[31m12.2 MB/s\u001b[0m eta \u001b[36m0:00:00\u001b[0m\n",
            "\u001b[?25hDownloading nvidia_cusolver_cu12-11.6.1.9-py3-none-manylinux2014_x86_64.whl (127.9 MB)\n",
            "\u001b[2K   \u001b[90m━━━━━━━━━━━━━━━━━━━━━━━━━━━━━━━━━━━━━━━━\u001b[0m \u001b[32m127.9/127.9 MB\u001b[0m \u001b[31m7.6 MB/s\u001b[0m eta \u001b[36m0:00:00\u001b[0m\n",
            "\u001b[?25hDownloading nvidia_cusparse_cu12-12.3.1.170-py3-none-manylinux2014_x86_64.whl (207.5 MB)\n",
            "\u001b[2K   \u001b[90m━━━━━━━━━━━━━━━━━━━━━━━━━━━━━━━━━━━━━━━━\u001b[0m \u001b[32m207.5/207.5 MB\u001b[0m \u001b[31m6.2 MB/s\u001b[0m eta \u001b[36m0:00:00\u001b[0m\n",
            "\u001b[?25hDownloading nvidia_nvjitlink_cu12-12.4.127-py3-none-manylinux2014_x86_64.whl (21.1 MB)\n",
            "\u001b[2K   \u001b[90m━━━━━━━━━━━━━━━━━━━━━━━━━━━━━━━━━━━━━━━━\u001b[0m \u001b[32m21.1/21.1 MB\u001b[0m \u001b[31m72.8 MB/s\u001b[0m eta \u001b[36m0:00:00\u001b[0m\n",
            "\u001b[?25hDownloading spacy_lookups_data-1.0.5-py2.py3-none-any.whl (98.5 MB)\n",
            "\u001b[2K   \u001b[90m━━━━━━━━━━━━━━━━━━━━━━━━━━━━━━━━━━━━━━━━\u001b[0m \u001b[32m98.5/98.5 MB\u001b[0m \u001b[31m8.4 MB/s\u001b[0m eta \u001b[36m0:00:00\u001b[0m\n",
            "\u001b[?25hBuilding wheels for collected packages: lime\n",
            "  Building wheel for lime (setup.py) ... \u001b[?25l\u001b[?25hdone\n",
            "  Created wheel for lime: filename=lime-0.2.0.1-py3-none-any.whl size=283834 sha256=45dcf431add1dff6d7848209e2843e0d25b056b038a3a2f58afac46ce6c93764\n",
            "  Stored in directory: /root/.cache/pip/wheels/85/fa/a3/9c2d44c9f3cd77cf4e533b58900b2bf4487f2a17e8ec212a3d\n",
            "Successfully built lime\n",
            "Installing collected packages: spacy-lookups-data, pillow, nvidia-nvjitlink-cu12, nvidia-curand-cu12, nvidia-cufft-cu12, nvidia-cuda-runtime-cu12, nvidia-cuda-nvrtc-cu12, nvidia-cuda-cupti-cu12, nvidia-cublas-cu12, dill, attrs, nvidia-cusparse-cu12, nvidia-cudnn-cu12, scikit-image, nvidia-cusolver-cu12, lime, pytorch-tabnet, alibi\n",
            "  Attempting uninstall: pillow\n",
            "    Found existing installation: pillow 11.1.0\n",
            "    Uninstalling pillow-11.1.0:\n",
            "      Successfully uninstalled pillow-11.1.0\n",
            "  Attempting uninstall: nvidia-nvjitlink-cu12\n",
            "    Found existing installation: nvidia-nvjitlink-cu12 12.5.82\n",
            "    Uninstalling nvidia-nvjitlink-cu12-12.5.82:\n",
            "      Successfully uninstalled nvidia-nvjitlink-cu12-12.5.82\n",
            "  Attempting uninstall: nvidia-curand-cu12\n",
            "    Found existing installation: nvidia-curand-cu12 10.3.6.82\n",
            "    Uninstalling nvidia-curand-cu12-10.3.6.82:\n",
            "      Successfully uninstalled nvidia-curand-cu12-10.3.6.82\n",
            "  Attempting uninstall: nvidia-cufft-cu12\n",
            "    Found existing installation: nvidia-cufft-cu12 11.2.3.61\n",
            "    Uninstalling nvidia-cufft-cu12-11.2.3.61:\n",
            "      Successfully uninstalled nvidia-cufft-cu12-11.2.3.61\n",
            "  Attempting uninstall: nvidia-cuda-runtime-cu12\n",
            "    Found existing installation: nvidia-cuda-runtime-cu12 12.5.82\n",
            "    Uninstalling nvidia-cuda-runtime-cu12-12.5.82:\n",
            "      Successfully uninstalled nvidia-cuda-runtime-cu12-12.5.82\n",
            "  Attempting uninstall: nvidia-cuda-nvrtc-cu12\n",
            "    Found existing installation: nvidia-cuda-nvrtc-cu12 12.5.82\n",
            "    Uninstalling nvidia-cuda-nvrtc-cu12-12.5.82:\n",
            "      Successfully uninstalled nvidia-cuda-nvrtc-cu12-12.5.82\n",
            "  Attempting uninstall: nvidia-cuda-cupti-cu12\n",
            "    Found existing installation: nvidia-cuda-cupti-cu12 12.5.82\n",
            "    Uninstalling nvidia-cuda-cupti-cu12-12.5.82:\n",
            "      Successfully uninstalled nvidia-cuda-cupti-cu12-12.5.82\n",
            "  Attempting uninstall: nvidia-cublas-cu12\n",
            "    Found existing installation: nvidia-cublas-cu12 12.5.3.2\n",
            "    Uninstalling nvidia-cublas-cu12-12.5.3.2:\n",
            "      Successfully uninstalled nvidia-cublas-cu12-12.5.3.2\n",
            "  Attempting uninstall: attrs\n",
            "    Found existing installation: attrs 25.1.0\n",
            "    Uninstalling attrs-25.1.0:\n",
            "      Successfully uninstalled attrs-25.1.0\n",
            "  Attempting uninstall: nvidia-cusparse-cu12\n",
            "    Found existing installation: nvidia-cusparse-cu12 12.5.1.3\n",
            "    Uninstalling nvidia-cusparse-cu12-12.5.1.3:\n",
            "      Successfully uninstalled nvidia-cusparse-cu12-12.5.1.3\n",
            "  Attempting uninstall: nvidia-cudnn-cu12\n",
            "    Found existing installation: nvidia-cudnn-cu12 9.3.0.75\n",
            "    Uninstalling nvidia-cudnn-cu12-9.3.0.75:\n",
            "      Successfully uninstalled nvidia-cudnn-cu12-9.3.0.75\n",
            "  Attempting uninstall: scikit-image\n",
            "    Found existing installation: scikit-image 0.25.1\n",
            "    Uninstalling scikit-image-0.25.1:\n",
            "      Successfully uninstalled scikit-image-0.25.1\n",
            "  Attempting uninstall: nvidia-cusolver-cu12\n",
            "    Found existing installation: nvidia-cusolver-cu12 11.6.3.83\n",
            "    Uninstalling nvidia-cusolver-cu12-11.6.3.83:\n",
            "      Successfully uninstalled nvidia-cusolver-cu12-11.6.3.83\n",
            "Successfully installed alibi-0.9.6 attrs-23.2.0 dill-0.3.9 lime-0.2.0.1 nvidia-cublas-cu12-12.4.5.8 nvidia-cuda-cupti-cu12-12.4.127 nvidia-cuda-nvrtc-cu12-12.4.127 nvidia-cuda-runtime-cu12-12.4.127 nvidia-cudnn-cu12-9.1.0.70 nvidia-cufft-cu12-11.2.1.3 nvidia-curand-cu12-10.3.5.147 nvidia-cusolver-cu12-11.6.1.9 nvidia-cusparse-cu12-12.3.1.170 nvidia-nvjitlink-cu12-12.4.127 pillow-10.4.0 pytorch-tabnet-4.1.0 scikit-image-0.22.0 spacy-lookups-data-1.0.5\n"
          ]
        },
        {
          "output_type": "display_data",
          "data": {
            "application/vnd.colab-display-data+json": {
              "pip_warning": {
                "packages": [
                  "PIL"
                ]
              },
              "id": "d6a73574024b411680e02b6f80f547ef"
            }
          },
          "metadata": {}
        }
      ]
    },
    {
      "cell_type": "markdown",
      "source": [
        "# Import the related packages"
      ],
      "metadata": {
        "id": "yp__No7I6cG1"
      }
    },
    {
      "cell_type": "code",
      "source": [
        "import numpy as np\n",
        "import pandas as pd\n",
        "import matplotlib.pyplot as plt\n",
        "from sklearn.model_selection import train_test_split\n",
        "from sklearn.preprocessing import StandardScaler, OneHotEncoder\n",
        "from sklearn.metrics import mean_squared_error\n",
        "from pytorch_tabnet.tab_model import TabNetRegressor  # Use TabNetRegressor as the pre-trained model\n",
        "from lime.lime_tabular import LimeTabularExplainer\n",
        "from alibi.explainers import AnchorTabular            # Use Anchors to explain the model\n",
        "from sklearn.datasets import fetch_openml\n",
        "import seaborn as sns\n",
        "\n"
      ],
      "metadata": {
        "id": "7D2Cqn8r6l7Z"
      },
      "execution_count": 33,
      "outputs": []
    },
    {
      "cell_type": "markdown",
      "source": [
        "# References\n",
        "## Dataset:\n",
        "Harrison, D., & Rubinfeld, D. L. (1978). \"Hedonic housing prices and the demand for clean air\".\n",
        "Journal of Environmental Economics and Management, 5(1), 81-102.\n",
        "\n",
        "## Pre-trained model:\n",
        "Arik, S. O., & Pfister, T. (2021). \"TabNet: Attentive Interpretable Tabular Learning\".\n",
        "Proceedings of the AAAI Conference on Artificial Intelligence, 35(8), 6679-6687.\n",
        "\n",
        "## AI:\n",
        "ChatGpt 4o is used to assist with the code.\n",
        "\n"
      ],
      "metadata": {
        "id": "evG6kXxOqJx6"
      }
    },
    {
      "cell_type": "markdown",
      "source": [
        "# Why choose Anchors?\n",
        "# Strengths\n",
        "Anchors is more explainable than others, since it generates rules, which are more clear and easier to explain than the linear weights in LIME and SHAP. The rules are more intuitive for human. Compared with LIME and SHAP, its requirement for computational resource is the least. It is stable with clear rules. It can explain mutiple kinds of features, like text, image and table data.\n",
        "\n",
        "# Limitation\n",
        "Anchors can not fit in the complicated cases. For some complex models like GPT-2, it can not explain the process of predicting. And if there are very complex paterns between features or the dimension is very high, it is hard to use Anchors to genarate uesful rules.\n",
        "\n",
        "# potential improvements\n",
        "1): When the model is complex and the dimension of features is high, we can combine Anchors with LIME.\n",
        "\n",
        "2): Use visualization to make the explaination more clear.\n"
      ],
      "metadata": {
        "id": "ri1vLA_mrm6M"
      }
    },
    {
      "cell_type": "markdown",
      "source": [
        "# Load Boston Housing Dataset"
      ],
      "metadata": {
        "id": "5IeRRjFd6mR_"
      }
    },
    {
      "cell_type": "code",
      "source": [
        "# Download data\n",
        "boston = fetch_openml(name=\"boston\", version=1, as_frame=True)\n",
        "df = boston.frame\n",
        "\n",
        "# Target labels\n",
        "y = df[\"MEDV\"]\n",
        "\n",
        "# Discrete variable\n",
        "categorical_features = [\"CHAS\", \"RAD\"]\n",
        "\n",
        "# Consistent variable\n",
        "continuous_features = [col for col in df.columns if col not in [\"MEDV\"] + categorical_features]\n",
        "\n",
        "# Spilt the train/test data\n",
        "X_train, X_test, y_train, y_test = train_test_split(df.drop(columns=[\"MEDV\"]), y, test_size=0.2, random_state=42)\n",
        "\n",
        "# Standalize the consistent variables\n",
        "scaler = StandardScaler()\n",
        "X_train_continuous = scaler.fit_transform(X_train[continuous_features])\n",
        "X_test_continuous = scaler.transform(X_test[continuous_features])\n",
        "\n",
        "X_train_categorical = np.hstack([\n",
        "    X_train[\"CHAS\"].values.reshape(-1, 1),\n",
        "    X_train[\"RAD\"].values.reshape(-1, 1)\n",
        "])\n",
        "\n",
        "X_test_categorical = np.hstack([\n",
        "    X_test[\"CHAS\"].values.reshape(-1, 1),\n",
        "    X_test[\"RAD\"].values.reshape(-1, 1)\n",
        "])\n",
        "\n",
        "X_train_scaled = np.hstack([X_train_continuous, X_train_categorical])\n",
        "X_test_scaled = np.hstack([X_test_continuous, X_test_categorical])\n",
        "\n"
      ],
      "metadata": {
        "id": "HYKqbJj06tLS"
      },
      "execution_count": 19,
      "outputs": []
    },
    {
      "cell_type": "markdown",
      "source": [
        "# Fine tuning pre-trained model"
      ],
      "metadata": {
        "id": "Utkp4NTVhLvg"
      }
    },
    {
      "cell_type": "code",
      "source": [
        "\n",
        "X_train_scaled = np.array(X_train_scaled, dtype=np.float32)\n",
        "X_test_scaled = np.array(X_test_scaled, dtype=np.float32)\n",
        "\n",
        "y_train_np = np.array(y_train, dtype=np.float32).reshape(-1, 1)\n",
        "y_test_np = np.array(y_test, dtype=np.float32).reshape(-1, 1)\n",
        "\n",
        "# Initialize the TabNet\n",
        "tabnet = TabNetRegressor()\n",
        "\n",
        "# Fine tuning\n",
        "tabnet.fit(\n",
        "    X_train_scaled, y_train_np,\n",
        "    eval_set=[(X_test_scaled, y_test_np)],\n",
        "    max_epochs=200, patience=20, batch_size=256, virtual_batch_size=128,\n",
        "    num_workers=0\n",
        ")\n",
        "\n",
        "# Prediction\n",
        "y_pred = tabnet.predict(X_test_scaled)\n",
        "\n",
        "# Evaluate the model, calculate MSE\n",
        "mse = mean_squared_error(y_test, y_pred)\n",
        "print(f\"Test dataset MSE: {mse:.4f}\")\n"
      ],
      "metadata": {
        "id": "VTnTVvpL6vLb",
        "colab": {
          "base_uri": "https://localhost:8080/"
        },
        "outputId": "4b0a75c1-79b5-4a20-a556-ed7db5a7519d"
      },
      "execution_count": 20,
      "outputs": [
        {
          "output_type": "stream",
          "name": "stderr",
          "text": [
            "/usr/local/lib/python3.11/dist-packages/pytorch_tabnet/abstract_model.py:82: UserWarning: Device used : cpu\n",
            "  warnings.warn(f\"Device used : {self.device}\")\n"
          ]
        },
        {
          "output_type": "stream",
          "name": "stdout",
          "text": [
            "epoch 0  | loss: 619.07166| val_0_mse: 617.41638|  0:00:00s\n",
            "epoch 1  | loss: 619.49243| val_0_mse: 663.67578|  0:00:00s\n",
            "epoch 2  | loss: 572.15186| val_0_mse: 569.26135|  0:00:00s\n",
            "epoch 3  | loss: 566.96643| val_0_mse: 510.73346|  0:00:00s\n",
            "epoch 4  | loss: 556.02472| val_0_mse: 495.19507|  0:00:00s\n",
            "epoch 5  | loss: 528.08209| val_0_mse: 466.12482|  0:00:00s\n",
            "epoch 6  | loss: 530.94891| val_0_mse: 449.69766|  0:00:00s\n",
            "epoch 7  | loss: 509.10388| val_0_mse: 432.53351|  0:00:00s\n",
            "epoch 8  | loss: 455.05356| val_0_mse: 420.21045|  0:00:00s\n",
            "epoch 9  | loss: 451.08713| val_0_mse: 398.26199|  0:00:00s\n",
            "epoch 10 | loss: 432.0199| val_0_mse: 377.74039|  0:00:00s\n",
            "epoch 11 | loss: 412.07956| val_0_mse: 356.21118|  0:00:00s\n",
            "epoch 12 | loss: 379.95993| val_0_mse: 334.43954|  0:00:00s\n",
            "epoch 13 | loss: 362.75702| val_0_mse: 310.86417|  0:00:00s\n",
            "epoch 14 | loss: 348.68958| val_0_mse: 290.68835|  0:00:00s\n",
            "epoch 15 | loss: 343.09525| val_0_mse: 269.90604|  0:00:00s\n",
            "epoch 16 | loss: 320.435 | val_0_mse: 250.407 |  0:00:00s\n",
            "epoch 17 | loss: 309.39575| val_0_mse: 233.37491|  0:00:00s\n",
            "epoch 18 | loss: 279.36285| val_0_mse: 217.58949|  0:00:01s\n",
            "epoch 19 | loss: 234.8513| val_0_mse: 212.25336|  0:00:01s\n",
            "epoch 20 | loss: 228.71619| val_0_mse: 197.39046|  0:00:01s\n",
            "epoch 21 | loss: 214.64963| val_0_mse: 182.35774|  0:00:01s\n",
            "epoch 22 | loss: 206.38866| val_0_mse: 158.27037|  0:00:01s\n",
            "epoch 23 | loss: 194.12917| val_0_mse: 143.54678|  0:00:01s\n",
            "epoch 24 | loss: 182.61038| val_0_mse: 136.36702|  0:00:01s\n",
            "epoch 25 | loss: 145.56697| val_0_mse: 124.95071|  0:00:01s\n",
            "epoch 26 | loss: 123.01176| val_0_mse: 114.72473|  0:00:01s\n",
            "epoch 27 | loss: 110.18371| val_0_mse: 107.56764|  0:00:01s\n",
            "epoch 28 | loss: 102.18369| val_0_mse: 96.70871|  0:00:01s\n",
            "epoch 29 | loss: 96.61137| val_0_mse: 93.04765|  0:00:01s\n",
            "epoch 30 | loss: 62.50286| val_0_mse: 91.55441|  0:00:01s\n",
            "epoch 31 | loss: 67.78944| val_0_mse: 90.14221|  0:00:01s\n",
            "epoch 32 | loss: 50.71389| val_0_mse: 88.63435|  0:00:01s\n",
            "epoch 33 | loss: 42.49701| val_0_mse: 93.09737|  0:00:01s\n",
            "epoch 34 | loss: 38.34837| val_0_mse: 136.72485|  0:00:01s\n",
            "epoch 35 | loss: 36.46659| val_0_mse: 168.07408|  0:00:01s\n",
            "epoch 36 | loss: 33.47342| val_0_mse: 285.33667|  0:00:01s\n",
            "epoch 37 | loss: 32.98971| val_0_mse: 231.57663|  0:00:02s\n",
            "epoch 38 | loss: 34.53244| val_0_mse: 114.66704|  0:00:02s\n",
            "epoch 39 | loss: 28.05214| val_0_mse: 81.25372|  0:00:02s\n",
            "epoch 40 | loss: 32.47013| val_0_mse: 70.2906 |  0:00:02s\n",
            "epoch 41 | loss: 30.64309| val_0_mse: 64.64396|  0:00:02s\n",
            "epoch 42 | loss: 30.94826| val_0_mse: 65.88676|  0:00:02s\n",
            "epoch 43 | loss: 34.66639| val_0_mse: 66.39458|  0:00:02s\n",
            "epoch 44 | loss: 31.39724| val_0_mse: 61.87417|  0:00:02s\n",
            "epoch 45 | loss: 28.85943| val_0_mse: 55.17743|  0:00:02s\n",
            "epoch 46 | loss: 28.05509| val_0_mse: 50.68697|  0:00:02s\n",
            "epoch 47 | loss: 25.12141| val_0_mse: 46.45752|  0:00:02s\n",
            "epoch 48 | loss: 21.74711| val_0_mse: 36.01486|  0:00:02s\n",
            "epoch 49 | loss: 22.08388| val_0_mse: 36.16557|  0:00:02s\n",
            "epoch 50 | loss: 21.81647| val_0_mse: 37.27014|  0:00:02s\n",
            "epoch 51 | loss: 21.23708| val_0_mse: 37.8027 |  0:00:02s\n",
            "epoch 52 | loss: 21.54898| val_0_mse: 35.64109|  0:00:02s\n",
            "epoch 53 | loss: 23.94126| val_0_mse: 33.05819|  0:00:02s\n",
            "epoch 54 | loss: 24.9462 | val_0_mse: 30.49215|  0:00:02s\n",
            "epoch 55 | loss: 24.41711| val_0_mse: 28.67338|  0:00:02s\n",
            "epoch 56 | loss: 20.78589| val_0_mse: 27.29249|  0:00:03s\n",
            "epoch 57 | loss: 16.55019| val_0_mse: 27.07066|  0:00:03s\n",
            "epoch 58 | loss: 22.3061 | val_0_mse: 27.46849|  0:00:03s\n",
            "epoch 59 | loss: 16.88971| val_0_mse: 28.1042 |  0:00:03s\n",
            "epoch 60 | loss: 19.63869| val_0_mse: 30.48626|  0:00:03s\n",
            "epoch 61 | loss: 16.09298| val_0_mse: 39.37812|  0:00:03s\n",
            "epoch 62 | loss: 23.12957| val_0_mse: 38.83503|  0:00:03s\n",
            "epoch 63 | loss: 24.14021| val_0_mse: 31.83311|  0:00:03s\n",
            "epoch 64 | loss: 22.31617| val_0_mse: 29.14558|  0:00:03s\n",
            "epoch 65 | loss: 21.6558 | val_0_mse: 26.5647 |  0:00:03s\n",
            "epoch 66 | loss: 17.51138| val_0_mse: 25.83559|  0:00:03s\n",
            "epoch 67 | loss: 18.16108| val_0_mse: 25.36765|  0:00:03s\n",
            "epoch 68 | loss: 20.24974| val_0_mse: 26.15025|  0:00:03s\n",
            "epoch 69 | loss: 16.95182| val_0_mse: 25.30679|  0:00:03s\n",
            "epoch 70 | loss: 17.26061| val_0_mse: 24.49267|  0:00:03s\n",
            "epoch 71 | loss: 15.81025| val_0_mse: 25.38756|  0:00:03s\n",
            "epoch 72 | loss: 17.77755| val_0_mse: 25.17709|  0:00:04s\n",
            "epoch 73 | loss: 14.59523| val_0_mse: 26.76231|  0:00:04s\n",
            "epoch 74 | loss: 16.06712| val_0_mse: 28.73639|  0:00:04s\n",
            "epoch 75 | loss: 13.71165| val_0_mse: 30.1967 |  0:00:04s\n",
            "epoch 76 | loss: 17.32825| val_0_mse: 30.88979|  0:00:04s\n",
            "epoch 77 | loss: 16.73953| val_0_mse: 29.58856|  0:00:04s\n",
            "epoch 78 | loss: 16.8272 | val_0_mse: 27.57643|  0:00:04s\n",
            "epoch 79 | loss: 12.96369| val_0_mse: 26.13187|  0:00:04s\n",
            "epoch 80 | loss: 14.90744| val_0_mse: 26.2118 |  0:00:04s\n",
            "epoch 81 | loss: 17.22942| val_0_mse: 24.70618|  0:00:04s\n",
            "epoch 82 | loss: 18.12269| val_0_mse: 20.0671 |  0:00:04s\n",
            "epoch 83 | loss: 15.44676| val_0_mse: 21.76703|  0:00:04s\n",
            "epoch 84 | loss: 13.02102| val_0_mse: 23.32372|  0:00:04s\n",
            "epoch 85 | loss: 13.24104| val_0_mse: 21.98422|  0:00:04s\n",
            "epoch 86 | loss: 11.77618| val_0_mse: 22.45761|  0:00:04s\n",
            "epoch 87 | loss: 11.00846| val_0_mse: 22.01178|  0:00:04s\n",
            "epoch 88 | loss: 13.2217 | val_0_mse: 22.51844|  0:00:05s\n",
            "epoch 89 | loss: 11.00176| val_0_mse: 22.20687|  0:00:05s\n",
            "epoch 90 | loss: 16.51124| val_0_mse: 21.04243|  0:00:05s\n",
            "epoch 91 | loss: 14.80822| val_0_mse: 18.11531|  0:00:05s\n",
            "epoch 92 | loss: 15.34021| val_0_mse: 18.81251|  0:00:05s\n",
            "epoch 93 | loss: 22.76233| val_0_mse: 19.2195 |  0:00:05s\n",
            "epoch 94 | loss: 18.7573 | val_0_mse: 19.42305|  0:00:05s\n",
            "epoch 95 | loss: 19.72337| val_0_mse: 20.49716|  0:00:05s\n",
            "epoch 96 | loss: 14.59755| val_0_mse: 21.70292|  0:00:05s\n",
            "epoch 97 | loss: 10.87915| val_0_mse: 21.40996|  0:00:05s\n",
            "epoch 98 | loss: 16.33722| val_0_mse: 20.90879|  0:00:05s\n",
            "epoch 99 | loss: 18.05475| val_0_mse: 19.94037|  0:00:05s\n",
            "epoch 100| loss: 11.71116| val_0_mse: 18.98359|  0:00:05s\n",
            "epoch 101| loss: 20.3068 | val_0_mse: 17.89748|  0:00:05s\n",
            "epoch 102| loss: 16.6285 | val_0_mse: 17.02627|  0:00:05s\n",
            "epoch 103| loss: 15.4423 | val_0_mse: 17.7636 |  0:00:06s\n",
            "epoch 104| loss: 14.10802| val_0_mse: 18.8559 |  0:00:06s\n",
            "epoch 105| loss: 11.23269| val_0_mse: 19.61467|  0:00:06s\n",
            "epoch 106| loss: 15.62163| val_0_mse: 19.70917|  0:00:06s\n",
            "epoch 107| loss: 12.90813| val_0_mse: 20.35428|  0:00:06s\n",
            "epoch 108| loss: 15.30411| val_0_mse: 21.87955|  0:00:06s\n",
            "epoch 109| loss: 15.03605| val_0_mse: 22.88467|  0:00:06s\n",
            "epoch 110| loss: 11.67176| val_0_mse: 23.63397|  0:00:06s\n",
            "epoch 111| loss: 18.01195| val_0_mse: 23.65773|  0:00:06s\n",
            "epoch 112| loss: 10.13847| val_0_mse: 24.0001 |  0:00:06s\n",
            "epoch 113| loss: 13.93757| val_0_mse: 24.72338|  0:00:06s\n",
            "epoch 114| loss: 19.11629| val_0_mse: 25.47685|  0:00:06s\n",
            "epoch 115| loss: 9.96967 | val_0_mse: 24.59196|  0:00:06s\n",
            "epoch 116| loss: 10.79212| val_0_mse: 22.64924|  0:00:06s\n",
            "epoch 117| loss: 13.14311| val_0_mse: 21.95173|  0:00:07s\n",
            "epoch 118| loss: 11.52282| val_0_mse: 21.35461|  0:00:07s\n",
            "epoch 119| loss: 7.7672  | val_0_mse: 21.53786|  0:00:07s\n",
            "epoch 120| loss: 9.9821  | val_0_mse: 21.0446 |  0:00:07s\n",
            "epoch 121| loss: 8.58338 | val_0_mse: 21.11965|  0:00:07s\n",
            "epoch 122| loss: 11.41772| val_0_mse: 22.2383 |  0:00:07s\n",
            "\n",
            "Early stopping occurred at epoch 122 with best_epoch = 102 and best_val_0_mse = 17.02627\n",
            "Test dataset MSE: 17.0263\n"
          ]
        },
        {
          "output_type": "stream",
          "name": "stderr",
          "text": [
            "/usr/local/lib/python3.11/dist-packages/pytorch_tabnet/callbacks.py:172: UserWarning: Best weights from best epoch are automatically used!\n",
            "  warnings.warn(wrn_msg)\n"
          ]
        }
      ]
    },
    {
      "cell_type": "markdown",
      "source": [
        "# Use Anchors to explain TabNet"
      ],
      "metadata": {
        "id": "tTbo7J2Ay0Ci"
      }
    },
    {
      "cell_type": "code",
      "source": [
        "feature_names = continuous_features + [\"CHAS\", \"RAD\"]\n",
        "\n",
        "# Initialize Anchors explainer\n",
        "explainer = AnchorTabular(\n",
        "    predictor=lambda x: tabnet.predict(x).flatten(),\n",
        "    feature_names=feature_names\n",
        ")\n",
        "\n",
        "# Fit the training data\n",
        "explainer.fit(X_train_scaled, disc_perc=(10, 30, 50, 70, 90))\n",
        "\n",
        "# Select a sample to explain\n",
        "idx = 50\n",
        "instance = X_test_scaled[idx].reshape(1, -1)\n",
        "\n",
        "# Generate the explaination\n",
        "explanation = explainer.explain(instance, threshold=0.01)\n",
        "\n",
        "# Output the explaination\n",
        "print(\"Anchors rules:\")\n",
        "print(explanation.anchor)\n",
        "print(\"Precision:\", explanation.precision)\n",
        "print(\"Coverage:\", explanation.coverage)\n",
        "\n"
      ],
      "metadata": {
        "colab": {
          "base_uri": "https://localhost:8080/"
        },
        "id": "tKk7bwLEy_0B",
        "outputId": "ed4c2e20-8393-4499-ef2b-130e5114d58a"
      },
      "execution_count": 37,
      "outputs": [
        {
          "output_type": "stream",
          "name": "stderr",
          "text": [
            "WARNING:alibi.explainers.anchors.anchor_base:Could not find an anchor satisfying the 0.01 precision constraint. Now returning the best non-eligible result. The desired precision threshold might not be achieved due to the quantile-based discretisation of the numerical features. The resolution of the bins may be too large to find an anchor of required precision. Consider increasing the number of bins in `disc_perc`, but note that for some numerical distribution (e.g. skewed distribution) it may not help.\n"
          ]
        },
        {
          "output_type": "stream",
          "name": "stdout",
          "text": [
            "Anchors rules:\n",
            "['4.00 < RAD <= 5.00', '0.33 < AGE <= 0.81', '-0.40 < CRIM <= -0.38', '-0.69 < TAX <= -0.45', '-0.22 < LSTAT <= 0.36', '-0.74 < INDUS <= -0.35', 'CHAS <= 0.00', '0.36 < DIS <= 1.52', '0.42 < B <= 0.44', '-1.63 < PTRATIO <= -0.41', '-0.50 < RM <= -0.15', '-0.72 < NOX <= -0.16', '-0.50 < ZN <= 1.45']\n",
            "Precision: 0.0\n",
            "Coverage: 0.0\n"
          ]
        }
      ]
    },
    {
      "cell_type": "markdown",
      "source": [
        "# Visualization"
      ],
      "metadata": {
        "id": "ApLnA2gWDmHw"
      }
    },
    {
      "cell_type": "code",
      "source": [
        "# Obtain the rules, precision and coverage\n",
        "anchor_rules = explanation.anchor\n",
        "precision = explanation.precision\n",
        "coverage = explanation.coverage\n",
        "\n",
        "plt.figure(figsize=(10, 5))\n",
        "sns.barplot(y=anchor_rules, x=[precision] * len(anchor_rules), palette=\"Blues_r\")\n",
        "plt.xlabel(\"Precision\")\n",
        "plt.ylabel(\"Anchors\")\n",
        "plt.title(\"Anchors rules\")\n",
        "plt.show()"
      ],
      "metadata": {
        "colab": {
          "base_uri": "https://localhost:8080/",
          "height": 579
        },
        "id": "CavD7BGjD3Bm",
        "outputId": "cf3cfa26-ee7e-47d6-9fca-cb70a54f375b"
      },
      "execution_count": 35,
      "outputs": [
        {
          "output_type": "stream",
          "name": "stderr",
          "text": [
            "<ipython-input-35-2662016a413e>:7: FutureWarning: \n",
            "\n",
            "Passing `palette` without assigning `hue` is deprecated and will be removed in v0.14.0. Assign the `y` variable to `hue` and set `legend=False` for the same effect.\n",
            "\n",
            "  sns.barplot(y=anchor_rules, x=[precision] * len(anchor_rules), palette=\"Blues_r\")\n"
          ]
        },
        {
          "output_type": "display_data",
          "data": {
            "text/plain": [
              "<Figure size 1000x500 with 1 Axes>"
            ],
            "image/png": "[encoded data removed]"
          },
          "metadata": {}
        }
      ]
    },
    {
      "cell_type": "markdown",
      "source": [
        "# Explaination\n",
        "This bar plot visualizes Anchors explanation rules for a selected instance.\n",
        "\n",
        "Y-axis (Anchors Rules): Conditions that influenced the model’s prediction (e.g., 4.00 < RAD <= 5.00, CHAS <= 0.00).\n",
        "\n",
        "X-axis (Precision): How reliable each rule is in explaining the prediction.\n",
        "\n",
        "Issue: Precision values are too small, making the plot appear almost empty. And the coverage is also small, which means Anchors doesn't fit this case.\n",
        "\n",
        "Fix: Combine Anchors with LIME to capture higher paterns of features."
      ],
      "metadata": {
        "id": "Er8qpAZfEnth"
      }
    }
  ]
}